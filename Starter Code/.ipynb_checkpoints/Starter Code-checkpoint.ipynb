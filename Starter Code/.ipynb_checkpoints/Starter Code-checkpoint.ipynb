{
 "cells": [
  {
   "cell_type": "code",
   "execution_count": 2,
   "id": "62c1fe04-05fa-4ca7-82fe-d461bd4b394f",
   "metadata": {},
   "outputs": [],
   "source": [
    "import yfinance as yf"
   ]
  },
  {
   "cell_type": "code",
   "execution_count": 3,
   "id": "bc9a5a5c-33dd-41f0-9930-ea342acf9ec9",
   "metadata": {},
   "outputs": [],
   "source": [
    "# Market Index Informations and pull their historical closing price since January 2018\n",
    "start = \"2018-01-01\"\n",
    "sp500 = yf.Ticker(\"^GSPC\")\n",
    "dows30 = yf.Ticker(\"^DJI\")\n",
    "nasdaq = yf.Ticker(\"^IXIC\")\n",
    "sptsx = yf.Ticker(\"^GSPTSE\")\n",
    "sp500_data = sp500.history(start= start)\n",
    "dows30_data = dows30.history(start = start)\n",
    "nasdaq_data = nasdaq.history(start= start)\n",
    "sptsx_data = sptsx.history(start= start)"
   ]
  },
  {
   "cell_type": "code",
   "execution_count": 5,
   "id": "02915ab9-c70f-4b9e-b3e0-4c8c5480e833",
   "metadata": {},
   "outputs": [],
   "source": [
    "# Fidelity funds Information and historical closing price since January 2018\n",
    "fdl_us_stocks = yf.Ticker(\"0P0001364K.TO\")\n",
    "fdl_us_stocks_data = fdl_us_stocks.history(start = start)\n",
    "fdl_us_equity = yf.Ticker(\"0P000074PP.TO\")\n",
    "fdl_us_equity_data = fdl_us_equity.history(start = start)\n",
    "# NEI funds ...\n",
    "nei_us_equity_rs = yf.Ticker(\"0P000070LH.TO\")\n",
    "nei_us_equity_rs_data = nei_us_equity_rs.history(start = start)\n",
    "# Invesco funds ...\n",
    "aim_us_companies = yf.Ticker(\"0P000072U5.TO\")\n",
    "aim_us_companies_data = aim_us_companies.history(start = start)\n",
    "#CIBC funds ...\n",
    "cibc_us_equity = yf.Ticker(\"0P000077O0.TO\")\n",
    "cibc_us_equity_data = cibc_us_equity.history(start = start)\n",
    "#RBC funds ...\n",
    "rbc_us_equity = yf.Ticker(\"RBCUSEQUITYS.TO\")\n",
    "rbc_us_equity_data = rbc_us_equity.history(start = start)\n",
    "#Scotia funds ...\n",
    "scotia_us_equity = yf.Ticker(\"0P000070D4.TO\")\n",
    "scotia_us_equity_data = scotia_us_equity.history(start = start)\n",
    "#BMO funds ...\n",
    "bmo_us_equity = yf.Ticker(\"0P00014EDS.TO\")\n",
    "bmo_us_equity_data = bmo_us_equity.history(start = start)\n",
    "#Sunlife Funds\n",
    "sunlife_us_growth = yf.Ticker(\"0P00015ILM.TO\")\n",
    "sunlife_us_growth_data = sunlife_us_growth.history(start = start)\n",
    "#Mawer Funds\n",
    "mawer_us_equity = yf.Ticker(\"MAWERUSEQUIT.TO\")\n",
    "mawer_us_equity_data = mawer_us_equity.history(start = start)"
   ]
  },
  {
   "cell_type": "code",
   "execution_count": 50,
   "id": "99e6a4fe-67f7-4f37-ae56-d8cf4787dc24",
   "metadata": {},
   "outputs": [],
   "source": []
  }
 ],
 "metadata": {
  "kernelspec": {
   "display_name": "Python 3",
   "language": "python",
   "name": "python3"
  },
  "language_info": {
   "codemirror_mode": {
    "name": "ipython",
    "version": 3
   },
   "file_extension": ".py",
   "mimetype": "text/x-python",
   "name": "python",
   "nbconvert_exporter": "python",
   "pygments_lexer": "ipython3",
   "version": "3.7.10"
  }
 },
 "nbformat": 4,
 "nbformat_minor": 5
}
