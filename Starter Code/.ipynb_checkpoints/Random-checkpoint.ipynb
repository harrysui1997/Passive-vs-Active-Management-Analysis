{
 "cells": [
  {
   "cell_type": "code",
   "execution_count": 1,
   "id": "754f3b48-23b5-4f1c-83c6-a9ab528c4b1e",
   "metadata": {},
   "outputs": [
    {
     "ename": "ModuleNotFoundError",
     "evalue": "No module named 'yfinance'",
     "output_type": "error",
     "traceback": [
      "\u001b[1;31m---------------------------------------------------------------------------\u001b[0m",
      "\u001b[1;31mModuleNotFoundError\u001b[0m                       Traceback (most recent call last)",
      "\u001b[1;32m<ipython-input-1-8ce78fe051be>\u001b[0m in \u001b[0;36m<module>\u001b[1;34m\u001b[0m\n\u001b[1;32m----> 1\u001b[1;33m \u001b[1;32mimport\u001b[0m \u001b[0myfinance\u001b[0m \u001b[1;32mas\u001b[0m \u001b[0myf\u001b[0m\u001b[1;33m\u001b[0m\u001b[1;33m\u001b[0m\u001b[0m\n\u001b[0m\u001b[0;32m      2\u001b[0m \u001b[1;32mimport\u001b[0m \u001b[0mpandas\u001b[0m \u001b[1;32mas\u001b[0m \u001b[0mpd\u001b[0m\u001b[1;33m\u001b[0m\u001b[1;33m\u001b[0m\u001b[0m\n\u001b[0;32m      3\u001b[0m \u001b[1;32mimport\u001b[0m \u001b[0mfinance_calculator\u001b[0m \u001b[1;32mas\u001b[0m \u001b[0mfc\u001b[0m\u001b[1;33m\u001b[0m\u001b[1;33m\u001b[0m\u001b[0m\n\u001b[0;32m      4\u001b[0m \u001b[1;32mimport\u001b[0m \u001b[0mnumpy\u001b[0m \u001b[1;32mas\u001b[0m \u001b[0mnp\u001b[0m\u001b[1;33m\u001b[0m\u001b[1;33m\u001b[0m\u001b[0m\n\u001b[0;32m      5\u001b[0m \u001b[1;32mimport\u001b[0m \u001b[0mpyfolio\u001b[0m \u001b[1;32mas\u001b[0m \u001b[0mpf\u001b[0m\u001b[1;33m\u001b[0m\u001b[1;33m\u001b[0m\u001b[0m\n",
      "\u001b[1;31mModuleNotFoundError\u001b[0m: No module named 'yfinance'"
     ]
    }
   ],
   "source": [
    "import yfinance as yf\n",
    "import pandas as pd\n",
    "import finance_calculator as fc\n",
    "import numpy as np\n",
    "import pyfolio as pf\n",
    "import empyrical as em\n",
    "import datapackage as dp\n",
    "import requests\n",
    "import bs4 as bs"
   ]
  },
  {
   "cell_type": "code",
   "execution_count": null,
   "id": "f2efe803-7e8e-41e6-914d-9dac709fa089",
   "metadata": {},
   "outputs": [],
   "source": [
    "\n",
    "# \n",
    "resp = requests.get('http://en.wikipedia.org/wiki/List_of_S%26P_500_companies')\n",
    "soup = bs.BeautifulSoup(resp.text, 'lxml')\n",
    "table = soup.find('table', {'class': 'wikitable sortable'})"
   ]
  },
  {
   "cell_type": "code",
   "execution_count": null,
   "id": "d1958887-c773-413b-927e-aabd23098c5d",
   "metadata": {},
   "outputs": [],
   "source": [
    "tickers = []\n",
    "date_first_added = []\n",
    "for row in table.findAll('tr')[1:]:\n",
    "        ticker = row.findAll('td')[0].text\n",
    "        #fourth element is the sector\n",
    "        \n",
    "        \n",
    "        tickers.append(ticker)"
   ]
  },
  {
   "cell_type": "code",
   "execution_count": null,
   "id": "f0c08ae1-dff9-4e38-9f5a-c0e3cbf3944e",
   "metadata": {},
   "outputs": [],
   "source": [
    "\n",
    "#We can get rid of the n at the of the ticker by using map, lambda and strip:\n",
    "tickers = list(map(lambda s: s.strip(), tickers))"
   ]
  },
  {
   "cell_type": "code",
   "execution_count": null,
   "id": "362f9f37-07cf-4c0c-bec1-84e295f5665c",
   "metadata": {},
   "outputs": [],
   "source": [
    "ticker_df = pd.DataFrame(tickers, columns=['ticker'])\n",
    "date_first_added_df = pd.DataFrame(date_first_added, columns=['date first added'])\n",
    "\n",
    "ticker_date_df = pd.concat([ticker_df, date_first_added_df], axis=1,)\n",
    "\n",
    "ticker_date_df.head()"
   ]
  },
  {
   "cell_type": "code",
   "execution_count": null,
   "id": "098ea467-b0aa-483c-8d96-3fc7fc646ed0",
   "metadata": {},
   "outputs": [],
   "source": [
    "#isolate comapanies with data dating back to at least Jan 1st 2018 using loc and conditional statement\n",
    "random_stock_pool = ticker_date_df.loc[ticker_date_df['date first added'] < '2018-01-01']\n",
    "random_stock_pool.reset_index(inplace=True)\n",
    "random_stock_pool"
   ]
  },
  {
   "cell_type": "code",
   "execution_count": null,
   "id": "1b2a2385-dbd1-4a95-bfb9-850b152e874b",
   "metadata": {},
   "outputs": [],
   "source": [
    "\n",
    "random_stock_pool_tickers = random_stock_pool['ticker']\n",
    "random_stock_pool_tickers.count()"
   ]
  },
  {
   "cell_type": "code",
   "execution_count": null,
   "id": "387f67b5-1bdd-4165-8a95-1f46581c819c",
   "metadata": {},
   "outputs": [],
   "source": [
    "# Market Index Informations and pull their historical closing price since January 2018\n",
    "start = \"2018-01-01\"\n",
    "sp500 = yf.Ticker(\"^GSPC\")\n",
    "sp500_data = sp500.history(start= start, actions=False)\n",
    "sp500_data.drop(columns=[\"Open\", \"High\", \"Low\", \"Volume\"], inplace=True)"
   ]
  },
  {
   "cell_type": "code",
   "execution_count": null,
   "id": "949f7b71-8964-44b4-b68e-61380ae4dd3d",
   "metadata": {},
   "outputs": [],
   "source": [
    "\n",
    "for i in range(1)"
   ]
  },
  {
   "cell_type": "code",
   "execution_count": null,
   "id": "e46368ea-2fcc-4532-abe0-3b942444c733",
   "metadata": {},
   "outputs": [],
   "source": [
    "\n",
    "#generate 10 random integers from 0 - 499 to serve as our randomly created portfolio\n",
    "high = random_stock_pool_tickers.count()\n",
    "index_numbers = np.random.randint(low=0, high=high, size=10)\n",
    "print(index_numbers)"
   ]
  },
  {
   "cell_type": "code",
   "execution_count": null,
   "id": "b29bf300-d9c6-4c61-af8e-ffddc7b4985a",
   "metadata": {},
   "outputs": [],
   "source": [
    "#isloate ticker symbols using loc function\n",
    "random_portfolio_tickers = random_stock_pool_tickers.loc[index_numbers].reset_index()\n",
    "random_portfolio_tickers"
   ]
  },
  {
   "cell_type": "code",
   "execution_count": null,
   "id": "b0a792a6-8d76-4029-a8a4-48f1bcbef3d6",
   "metadata": {},
   "outputs": [],
   "source": [
    "\n",
    "# pull data for 10 randomly genereated stocks \n",
    "random_stock_0 = yf.Ticker(random_portfolio_tickers[\"ticker\"][0])\n",
    "random_stock_1 = yf.Ticker(random_portfolio_tickers[\"ticker\"][1])\n",
    "random_stock_2 = yf.Ticker(random_portfolio_tickers[\"ticker\"][2])\n",
    "random_stock_3 = yf.Ticker(random_portfolio_tickers[\"ticker\"][3])\n",
    "random_stock_4 = yf.Ticker(random_portfolio_tickers[\"ticker\"][4])\n",
    "random_stock_5 = yf.Ticker(random_portfolio_tickers[\"ticker\"][5])\n",
    "random_stock_6 = yf.Ticker(random_portfolio_tickers[\"ticker\"][6])\n",
    "random_stock_7 = yf.Ticker(random_portfolio_tickers[\"ticker\"][7])\n",
    "random_stock_8 = yf.Ticker(random_portfolio_tickers[\"ticker\"][8])\n",
    "random_stock_9 = yf.Ticker(random_portfolio_tickers[\"ticker\"][9])\n",
    "\n",
    "random_stock_0_data = random_stock_0.history(start = start, actions =False)\n",
    "random_stock_1_data = random_stock_1.history(start = start, actions =False)\n",
    "random_stock_2_data = random_stock_2.history(start = start, actions =False)\n",
    "random_stock_3_data = random_stock_3.history(start = start, actions =False)\n",
    "random_stock_4_data = random_stock_4.history(start = start, actions =False)\n",
    "random_stock_5_data = random_stock_5.history(start = start, actions =False)\n",
    "random_stock_6_data = random_stock_6.history(start = start, actions =False)\n",
    "random_stock_7_data = random_stock_7.history(start = start, actions =False)\n",
    "random_stock_8_data = random_stock_8.history(start = start, actions =False)\n",
    "random_stock_9_data = random_stock_9.history(start = start, actions =False)\n",
    "\n",
    "random_stock_0_data.drop(columns=[\"Open\", \"High\", \"Low\", \"Volume\"], inplace=True)\n",
    "random_stock_1_data.drop(columns=[\"Open\", \"High\", \"Low\", \"Volume\"], inplace=True)\n",
    "random_stock_2_data.drop(columns=[\"Open\", \"High\", \"Low\", \"Volume\"], inplace=True)\n",
    "random_stock_3_data.drop(columns=[\"Open\", \"High\", \"Low\", \"Volume\"], inplace=True)\n",
    "random_stock_4_data.drop(columns=[\"Open\", \"High\", \"Low\", \"Volume\"], inplace=True)\n",
    "random_stock_5_data.drop(columns=[\"Open\", \"High\", \"Low\", \"Volume\"], inplace=True)\n",
    "random_stock_6_data.drop(columns=[\"Open\", \"High\", \"Low\", \"Volume\"], inplace=True)\n",
    "random_stock_7_data.drop(columns=[\"Open\", \"High\", \"Low\", \"Volume\"], inplace=True)\n",
    "random_stock_8_data.drop(columns=[\"Open\", \"High\", \"Low\", \"Volume\"], inplace=True)\n",
    "random_stock_9_data.drop(columns=[\"Open\", \"High\", \"Low\", \"Volume\"], inplace=True)\n",
    "\n",
    "#Combine into single df\n",
    "random_portfolio = pd.concat([random_stock_0_data, \n",
    "           random_stock_1_data, \n",
    "           random_stock_2_data, \n",
    "           random_stock_3_data, \n",
    "           random_stock_4_data, \n",
    "           random_stock_5_data, \n",
    "           random_stock_6_data, \n",
    "           random_stock_7_data, \n",
    "           random_stock_8_data, \n",
    "           random_stock_9_data], \n",
    "           axis=\"columns\", join=\"inner\").reset_index()\n",
    "\n",
    "random_portfolio.set_index('Date', inplace=True)"
   ]
  },
  {
   "cell_type": "code",
   "execution_count": null,
   "id": "a2f7cd19-f7a0-40d6-b7ad-ed29b13a3d8f",
   "metadata": {},
   "outputs": [],
   "source": [
    "daily_returns = random_portfolio.pct_change()\n",
    "daily_returns"
   ]
  },
  {
   "cell_type": "code",
   "execution_count": null,
   "id": "509c79d0-37eb-46f3-b89e-981fffafdfbd",
   "metadata": {},
   "outputs": [],
   "source": [
    "# calculate daily returns of portfolio assuming equal with (0.1) into each stock\n",
    "weights = [.1,.1,.1,.1,.1,.1,.1,.1,.1,.1]\n",
    "\n",
    "random_portfolio_returns = daily_returns.dot(weights)\n",
    "random_portfolio_returns.head()"
   ]
  },
  {
   "cell_type": "code",
   "execution_count": null,
   "id": "3b2debb8-7557-42fa-9729-39c0f087db40",
   "metadata": {},
   "outputs": [],
   "source": [
    "# calucluate daily returnsd of S&P 500 then join with random portfolio returns\n",
    "\n",
    "sp_daily_returns = sp500_data.pct_change()\n",
    "\n",
    "sp_vs_random_returns = pd.concat([random_portfolio_returns, sp_daily_returns], axis=\"columns\", join=\"inner\")\n",
    "sp_vs_random_return_columns = [\"Random Portfolio\",\"S&P 500\"]\n",
    "sp_vs_random_returns.columns=(sp_vs_random_return_columns)"
   ]
  },
  {
   "cell_type": "code",
   "execution_count": null,
   "id": "11a24ce7-35d2-496c-8107-d7372e48f162",
   "metadata": {},
   "outputs": [],
   "source": [
    "sp_vs_random_returns.plot(figsize = (20, 10))"
   ]
  },
  {
   "cell_type": "code",
   "execution_count": null,
   "id": "0e5fa800-7310-4832-ad42-8490e33e4acf",
   "metadata": {},
   "outputs": [],
   "source": [
    "growth_of_10k = 10000 * ((1+ sp_vs_random_returns).cumprod())"
   ]
  },
  {
   "cell_type": "code",
   "execution_count": null,
   "id": "12134322-cbca-424e-96b7-a11701375ba1",
   "metadata": {},
   "outputs": [],
   "source": [
    "growth_of_10k.plot(figsize=(20,10))"
   ]
  },
  {
   "cell_type": "code",
   "execution_count": null,
   "id": "dedaef94-c13b-4f37-b1d8-de10991471b1",
   "metadata": {},
   "outputs": [],
   "source": [
    "\n",
    "#determine if the random portfolio outperformed\n",
    "growth_of_10k_reset = growth_of_10k.reset_index()\n",
    "index_for_comparison = growth_of_10k_reset['S&P 500'].count()\n",
    "current_value_random = growth_of_10k_reset[\"Random Portfolio\"][index_for_comparison]\n",
    "current_value_sp_500 = growth_of_10k_reset[\"S&P 500\"][index_for_comparison]"
   ]
  },
  {
   "cell_type": "code",
   "execution_count": null,
   "id": "6a967dd8-1abc-48ad-a658-36a4232867ec",
   "metadata": {},
   "outputs": [],
   "source": [
    "\n",
    "current_value_sp_500"
   ]
  },
  {
   "cell_type": "code",
   "execution_count": null,
   "id": "d2ad5e46-6af1-4f0b-9e15-1b3a98d072c8",
   "metadata": {},
   "outputs": [],
   "source": [
    "current_value_sp_500\n"
   ]
  },
  {
   "cell_type": "code",
   "execution_count": null,
   "id": "1a5cd7c3-7eeb-4db2-9b0c-bf1b149245b0",
   "metadata": {},
   "outputs": [],
   "source": [
    "\n",
    "if current_value_random > current_value_sp_500:\n",
    "    print(\"the random portfolio outperformed the index!\")\n",
    "    \n",
    "elif current_value_random == current_value_sp_500:\n",
    "    print(\"the random portfolio performed the same as the index.\")\n",
    "        \n",
    "elif current_value_random < current_value_sp_500:\n",
    "     print(\"the random portfolio underperformed the index\")"
   ]
  }
 ],
 "metadata": {
  "kernelspec": {
   "display_name": "Python 3",
   "language": "python",
   "name": "python3"
  },
  "language_info": {
   "codemirror_mode": {
    "name": "ipython",
    "version": 3
   },
   "file_extension": ".py",
   "mimetype": "text/x-python",
   "name": "python",
   "nbconvert_exporter": "python",
   "pygments_lexer": "ipython3",
   "version": "3.8.8"
  }
 },
 "nbformat": 4,
 "nbformat_minor": 5
}
